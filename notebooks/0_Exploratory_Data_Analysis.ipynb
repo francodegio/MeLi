{
 "cells": [
  {
   "cell_type": "markdown",
   "metadata": {},
   "source": [
    "Exercise description\n",
    "--------------------\n",
    "\n",
    "In the context of Mercadolibre's Marketplace an algorithm is needed to\n",
    "predict if an item listed in the markeplace is new or used.\n",
    "\n",
    "Your task to design a machine learning model to predict if an item is new or\n",
    "used and then evaluate the model over held-out test data.\n",
    "\n",
    "To assist in that task a dataset is provided in `MLA_100k.jsonlines` and a\n",
    "function to read that dataset in `build_dataset`.\n",
    "\n",
    "For the evaluation you will have to choose an appropiate metric and also\n",
    "elaborate an argument on why that metric was chosen.\n",
    "\n",
    "The deliverables are:\n",
    "- This file including all the code needed to define and evaluate a model.\n",
    "- A text file with a short explanation on the criteria applied to choose the metric and the performance achieved on that metric.\n",
    "\n"
   ]
  },
  {
   "cell_type": "markdown",
   "metadata": {},
   "source": [
    "## I. Importing libraries"
   ]
  },
  {
   "cell_type": "code",
   "execution_count": 1,
   "metadata": {},
   "outputs": [
    {
     "name": "stderr",
     "output_type": "stream",
     "text": [
      "E:\\Miniconda3\\envs\\ds37\\lib\\site-packages\\statsmodels\\tools\\_testing.py:19: FutureWarning: pandas.util.testing is deprecated. Use the functions in the public API at pandas.testing instead.\n",
      "  import pandas.util.testing as tm\n"
     ]
    }
   ],
   "source": [
    "import json, re\n",
    "import pandas as pd\n",
    "import seaborn as sns\n",
    "import matplotlib.pyplot as plt\n",
    "import numpy as np\n",
    "%matplotlib inline"
   ]
  },
  {
   "cell_type": "markdown",
   "metadata": {},
   "source": [
    "## II. Loading (and modifying) the dataset\n",
    "Added two lines to avoid data leakage"
   ]
  },
  {
   "cell_type": "code",
   "execution_count": 2,
   "metadata": {},
   "outputs": [],
   "source": [
    "def build_dataset():\n",
    "    data = [json.loads(x) for x in open(\"../ml_evaluation/MLA_100k.jsonlines\")]\n",
    "    target = lambda x: x.get(\"condition\")\n",
    "    N = -10000\n",
    "    X_train = data[:N]\n",
    "    X_test = data[N:]\n",
    "    y_train = [target(x) for x in X_train]\n",
    "    y_test = [target(x) for x in X_test]\n",
    "    for x in X_test:\n",
    "        del x[\"condition\"]\n",
    "    # NOTE: adding these lines to avoid data leakage\n",
    "    for x in X_train:\n",
    "        del x[\"condition\"]\n",
    "    return X_train, y_train, X_test, y_test"
   ]
  },
  {
   "cell_type": "code",
   "execution_count": 3,
   "metadata": {},
   "outputs": [],
   "source": [
    "X_train, y_train, X_test, y_test = build_dataset()"
   ]
  },
  {
   "cell_type": "markdown",
   "metadata": {},
   "source": [
    "#### Checking shapes and structure"
   ]
  },
  {
   "cell_type": "code",
   "execution_count": 4,
   "metadata": {},
   "outputs": [
    {
     "data": {
      "text/plain": [
       "(90000, 90000, 10000, 10000)"
      ]
     },
     "execution_count": 4,
     "metadata": {},
     "output_type": "execute_result"
    }
   ],
   "source": [
    "len(X_train), len(y_train), len(X_test), len(y_test)"
   ]
  },
  {
   "cell_type": "code",
   "execution_count": 5,
   "metadata": {},
   "outputs": [
    {
     "data": {
      "text/plain": [
       "{'seller_address': {'comment': '',\n",
       "  'longitude': -58.3986709,\n",
       "  'id': 78162842,\n",
       "  'country': {'name': 'Argentina', 'id': 'AR'},\n",
       "  'address_line': '',\n",
       "  'latitude': -34.6280698,\n",
       "  'search_location': {'neighborhood': {'name': 'San Cristóbal',\n",
       "    'id': 'TUxBQlNBTjkwNTZa'},\n",
       "   'state': {'name': 'Capital Federal', 'id': 'TUxBUENBUGw3M2E1'},\n",
       "   'city': {'name': 'Capital Federal', 'id': 'TUxBQ0NBUGZlZG1sYQ'}},\n",
       "  'zip_code': '',\n",
       "  'city': {'name': 'San Cristóbal', 'id': 'TUxBQlNBTjkwNTZa'},\n",
       "  'state': {'name': 'Capital Federal', 'id': 'AR-C'}},\n",
       " 'warranty': None,\n",
       " 'sub_status': [],\n",
       " 'seller_contact': None,\n",
       " 'deal_ids': [],\n",
       " 'base_price': 80,\n",
       " 'shipping': {'local_pick_up': True,\n",
       "  'methods': [],\n",
       "  'tags': [],\n",
       "  'free_shipping': False,\n",
       "  'mode': 'not_specified',\n",
       "  'dimensions': None},\n",
       " 'non_mercado_pago_payment_methods': [{'description': 'Transferencia bancaria',\n",
       "   'id': 'MLATB',\n",
       "   'type': 'G'},\n",
       "  {'description': 'Acordar con el comprador', 'id': 'MLAWC', 'type': 'G'},\n",
       "  {'description': 'Efectivo', 'id': 'MLAMO', 'type': 'G'}],\n",
       " 'seller_id': 74952096,\n",
       " 'variations': [],\n",
       " 'location': {},\n",
       " 'site_id': 'MLA',\n",
       " 'listing_type_id': 'bronze',\n",
       " 'price': 80,\n",
       " 'attributes': [],\n",
       " 'buying_mode': 'buy_it_now',\n",
       " 'tags': ['dragged_bids_and_visits'],\n",
       " 'listing_source': '',\n",
       " 'parent_item_id': 'MLA568261029',\n",
       " 'coverage_areas': [],\n",
       " 'category_id': 'MLA126406',\n",
       " 'descriptions': [{'id': 'MLA578052519-912855983'}],\n",
       " 'last_updated': '2015-09-05T20:42:58.000Z',\n",
       " 'international_delivery_mode': 'none',\n",
       " 'pictures': [{'size': '500x375',\n",
       "   'secure_url': 'https://a248.e.akamai.net/mla-s1-p.mlstatic.com/5386-MLA4352067878_052013-O.jpg',\n",
       "   'max_size': '1200x900',\n",
       "   'url': 'http://mla-s1-p.mlstatic.com/5386-MLA4352067878_052013-O.jpg',\n",
       "   'quality': '',\n",
       "   'id': '5386-MLA4352067878_052013'},\n",
       "  {'size': '500x375',\n",
       "   'secure_url': 'https://a248.e.akamai.net/mla-s1-p.mlstatic.com/5361-MLA4352068035_052013-O.jpg',\n",
       "   'max_size': '1200x900',\n",
       "   'url': 'http://mla-s1-p.mlstatic.com/5361-MLA4352068035_052013-O.jpg',\n",
       "   'quality': '',\n",
       "   'id': '5361-MLA4352068035_052013'}],\n",
       " 'id': 'MLA578052519',\n",
       " 'official_store_id': None,\n",
       " 'differential_pricing': None,\n",
       " 'accepts_mercadopago': True,\n",
       " 'original_price': None,\n",
       " 'currency_id': 'ARS',\n",
       " 'thumbnail': 'http://mla-s1-p.mlstatic.com/5386-MLA4352067878_052013-I.jpg',\n",
       " 'title': 'Auriculares Samsung Originales Manos Libres Cable Usb Oferta',\n",
       " 'automatic_relist': False,\n",
       " 'date_created': '2015-09-05T20:42:53.000Z',\n",
       " 'secure_thumbnail': 'https://a248.e.akamai.net/mla-s1-p.mlstatic.com/5386-MLA4352067878_052013-I.jpg',\n",
       " 'stop_time': '2015-11-04T20:42:53.000Z',\n",
       " 'status': 'active',\n",
       " 'video_id': None,\n",
       " 'catalog_product_id': None,\n",
       " 'subtitle': None,\n",
       " 'initial_quantity': 1,\n",
       " 'start_time': '2015-09-05T20:42:53.000Z',\n",
       " 'permalink': 'http://articulo.mercadolibre.com.ar/MLA-578052519-auriculares-samsung-originales-manos-libres-cable-usb-oferta-_JM',\n",
       " 'geolocation': {'latitude': -34.6280698, 'longitude': -58.3986709},\n",
       " 'sold_quantity': 0,\n",
       " 'available_quantity': 1}"
      ]
     },
     "execution_count": 5,
     "metadata": {},
     "output_type": "execute_result"
    }
   ],
   "source": [
    "X_train[0]"
   ]
  },
  {
   "cell_type": "code",
   "execution_count": 6,
   "metadata": {},
   "outputs": [
    {
     "data": {
      "text/plain": [
       "'new'"
      ]
     },
     "execution_count": 6,
     "metadata": {},
     "output_type": "execute_result"
    }
   ],
   "source": [
    "y_train[0]"
   ]
  },
  {
   "cell_type": "code",
   "execution_count": 7,
   "metadata": {},
   "outputs": [
    {
     "name": "stdout",
     "output_type": "stream",
     "text": [
      "train\n"
     ]
    },
    {
     "data": {
      "text/plain": [
       "new     0.537244\n",
       "used    0.462756\n",
       "dtype: float64"
      ]
     },
     "metadata": {},
     "output_type": "display_data"
    },
    {
     "name": "stdout",
     "output_type": "stream",
     "text": [
      "\n",
      "test\n"
     ]
    },
    {
     "data": {
      "text/plain": [
       "new     0.5406\n",
       "used    0.4594\n",
       "dtype: float64"
      ]
     },
     "metadata": {},
     "output_type": "display_data"
    }
   ],
   "source": [
    "y_train = pd.Series(y_train)\n",
    "y_test = pd.Series(y_test)\n",
    "\n",
    "print('train')\n",
    "display(y_train.value_counts(normalize=True))\n",
    "print('\\ntest')\n",
    "display(y_test.value_counts(normalize=True))"
   ]
  },
  {
   "cell_type": "code",
   "execution_count": 8,
   "metadata": {},
   "outputs": [
    {
     "data": {
      "text/plain": [
       "['seller_address',\n",
       " 'warranty',\n",
       " 'sub_status',\n",
       " 'seller_contact',\n",
       " 'deal_ids',\n",
       " 'base_price',\n",
       " 'shipping',\n",
       " 'non_mercado_pago_payment_methods',\n",
       " 'seller_id',\n",
       " 'variations',\n",
       " 'location',\n",
       " 'site_id',\n",
       " 'listing_type_id',\n",
       " 'price',\n",
       " 'attributes',\n",
       " 'buying_mode',\n",
       " 'tags',\n",
       " 'listing_source',\n",
       " 'parent_item_id',\n",
       " 'coverage_areas',\n",
       " 'category_id',\n",
       " 'descriptions',\n",
       " 'last_updated',\n",
       " 'international_delivery_mode',\n",
       " 'pictures',\n",
       " 'id',\n",
       " 'official_store_id',\n",
       " 'differential_pricing',\n",
       " 'accepts_mercadopago',\n",
       " 'original_price',\n",
       " 'currency_id',\n",
       " 'thumbnail',\n",
       " 'title',\n",
       " 'automatic_relist',\n",
       " 'date_created',\n",
       " 'secure_thumbnail',\n",
       " 'stop_time',\n",
       " 'status',\n",
       " 'video_id',\n",
       " 'catalog_product_id',\n",
       " 'subtitle',\n",
       " 'initial_quantity',\n",
       " 'start_time',\n",
       " 'permalink',\n",
       " 'geolocation',\n",
       " 'sold_quantity',\n",
       " 'available_quantity']"
      ]
     },
     "execution_count": 8,
     "metadata": {},
     "output_type": "execute_result"
    }
   ],
   "source": [
    "[x for x in X_train[0].keys()]"
   ]
  },
  {
   "cell_type": "markdown",
   "metadata": {},
   "source": [
    "## III. General Analysis of features\n",
    "We take a general overview to the dataset in order to find relevant relationships."
   ]
  },
  {
   "cell_type": "code",
   "execution_count": 9,
   "metadata": {},
   "outputs": [],
   "source": [
    "X_train = pd.DataFrame(X_train)\n",
    "y_train.name = 'condition'\n",
    "\n",
    "df = pd.concat([X_train, y_train], axis=1)\n",
    "\n",
    "df['condition'] = df['condition'].map({'new':1, 'used':0})"
   ]
  },
  {
   "cell_type": "code",
   "execution_count": 10,
   "metadata": {},
   "outputs": [
    {
     "data": {
      "image/png": "[encoded data removed]",
      "text/plain": [
       "<Figure size 864x720 with 2 Axes>"
      ]
     },
     "metadata": {
      "needs_background": "light"
     },
     "output_type": "display_data"
    }
   ],
   "source": [
    "plt.figure(figsize=(12,10))\n",
    "plt.title('\\nCorrelation Matrix\\n')\n",
    "sns.heatmap(df.corr(), vmin=-1, vmax=1, annot=True, fmt='.2f', cmap='icefire');"
   ]
  },
  {
   "cell_type": "markdown",
   "metadata": {},
   "source": [
    "## IV. Feature analysis\n",
    "We'll explore each feature given in order to check wether they are worthy or not to be used in the model."
   ]
  },
  {
   "cell_type": "code",
   "execution_count": 11,
   "metadata": {},
   "outputs": [
    {
     "data": {
      "text/html": [
       "<div>\n",
       "<style scoped>\n",
       "    .dataframe tbody tr th:only-of-type {\n",
       "        vertical-align: middle;\n",
       "    }\n",
       "\n",
       "    .dataframe tbody tr th {\n",
       "        vertical-align: top;\n",
       "    }\n",
       "\n",
       "    .dataframe thead th {\n",
       "        text-align: right;\n",
       "    }\n",
       "</style>\n",
       "<table border=\"1\" class=\"dataframe\">\n",
       "  <thead>\n",
       "    <tr style=\"text-align: right;\">\n",
       "      <th></th>\n",
       "      <th>seller_address</th>\n",
       "      <th>warranty</th>\n",
       "      <th>sub_status</th>\n",
       "      <th>seller_contact</th>\n",
       "      <th>deal_ids</th>\n",
       "      <th>base_price</th>\n",
       "      <th>shipping</th>\n",
       "      <th>non_mercado_pago_payment_methods</th>\n",
       "      <th>seller_id</th>\n",
       "      <th>variations</th>\n",
       "      <th>...</th>\n",
       "      <th>status</th>\n",
       "      <th>video_id</th>\n",
       "      <th>catalog_product_id</th>\n",
       "      <th>subtitle</th>\n",
       "      <th>initial_quantity</th>\n",
       "      <th>start_time</th>\n",
       "      <th>permalink</th>\n",
       "      <th>geolocation</th>\n",
       "      <th>sold_quantity</th>\n",
       "      <th>available_quantity</th>\n",
       "    </tr>\n",
       "  </thead>\n",
       "  <tbody>\n",
       "    <tr>\n",
       "      <th>0</th>\n",
       "      <td>{'comment': '', 'longitude': -58.3986709, 'id'...</td>\n",
       "      <td>None</td>\n",
       "      <td>[]</td>\n",
       "      <td>None</td>\n",
       "      <td>[]</td>\n",
       "      <td>80.0</td>\n",
       "      <td>{'local_pick_up': True, 'methods': [], 'tags':...</td>\n",
       "      <td>[{'description': 'Transferencia bancaria', 'id...</td>\n",
       "      <td>74952096</td>\n",
       "      <td>[]</td>\n",
       "      <td>...</td>\n",
       "      <td>active</td>\n",
       "      <td>None</td>\n",
       "      <td>NaN</td>\n",
       "      <td>None</td>\n",
       "      <td>1</td>\n",
       "      <td>2015-09-05T20:42:53.000Z</td>\n",
       "      <td>http://articulo.mercadolibre.com.ar/MLA-578052...</td>\n",
       "      <td>{'latitude': -34.6280698, 'longitude': -58.398...</td>\n",
       "      <td>0</td>\n",
       "      <td>1</td>\n",
       "    </tr>\n",
       "    <tr>\n",
       "      <th>1</th>\n",
       "      <td>{'comment': '', 'longitude': -58.5059173, 'id'...</td>\n",
       "      <td>NUESTRA REPUTACION</td>\n",
       "      <td>[]</td>\n",
       "      <td>None</td>\n",
       "      <td>[]</td>\n",
       "      <td>2650.0</td>\n",
       "      <td>{'local_pick_up': True, 'methods': [], 'tags':...</td>\n",
       "      <td>[{'description': 'Transferencia bancaria', 'id...</td>\n",
       "      <td>42093335</td>\n",
       "      <td>[]</td>\n",
       "      <td>...</td>\n",
       "      <td>active</td>\n",
       "      <td>None</td>\n",
       "      <td>NaN</td>\n",
       "      <td>None</td>\n",
       "      <td>1</td>\n",
       "      <td>2015-09-26T18:08:30.000Z</td>\n",
       "      <td>http://articulo.mercadolibre.com.ar/MLA-581565...</td>\n",
       "      <td>{'latitude': -34.5935524, 'longitude': -58.505...</td>\n",
       "      <td>0</td>\n",
       "      <td>1</td>\n",
       "    </tr>\n",
       "    <tr>\n",
       "      <th>2</th>\n",
       "      <td>{'comment': '', 'longitude': -58.4143948, 'id'...</td>\n",
       "      <td>None</td>\n",
       "      <td>[]</td>\n",
       "      <td>None</td>\n",
       "      <td>[]</td>\n",
       "      <td>60.0</td>\n",
       "      <td>{'local_pick_up': True, 'methods': [], 'tags':...</td>\n",
       "      <td>[{'description': 'Transferencia bancaria', 'id...</td>\n",
       "      <td>133384258</td>\n",
       "      <td>[]</td>\n",
       "      <td>...</td>\n",
       "      <td>active</td>\n",
       "      <td>None</td>\n",
       "      <td>NaN</td>\n",
       "      <td>None</td>\n",
       "      <td>1</td>\n",
       "      <td>2015-09-09T23:57:07.000Z</td>\n",
       "      <td>http://articulo.mercadolibre.com.ar/MLA-578780...</td>\n",
       "      <td>{'latitude': -34.6233907, 'longitude': -58.414...</td>\n",
       "      <td>0</td>\n",
       "      <td>1</td>\n",
       "    </tr>\n",
       "    <tr>\n",
       "      <th>3</th>\n",
       "      <td>{'comment': '', 'longitude': -58.4929208, 'id'...</td>\n",
       "      <td>None</td>\n",
       "      <td>[]</td>\n",
       "      <td>None</td>\n",
       "      <td>[]</td>\n",
       "      <td>580.0</td>\n",
       "      <td>{'local_pick_up': True, 'methods': [], 'tags':...</td>\n",
       "      <td>[{'description': 'Transferencia bancaria', 'id...</td>\n",
       "      <td>143001605</td>\n",
       "      <td>[]</td>\n",
       "      <td>...</td>\n",
       "      <td>active</td>\n",
       "      <td>None</td>\n",
       "      <td>NaN</td>\n",
       "      <td>None</td>\n",
       "      <td>1</td>\n",
       "      <td>2015-09-28T18:47:56.000Z</td>\n",
       "      <td>http://articulo.mercadolibre.com.ar/MLA-581877...</td>\n",
       "      <td>{'latitude': -34.6281894, 'longitude': -58.492...</td>\n",
       "      <td>0</td>\n",
       "      <td>1</td>\n",
       "    </tr>\n",
       "    <tr>\n",
       "      <th>4</th>\n",
       "      <td>{'comment': '', 'longitude': -58.5495042, 'id'...</td>\n",
       "      <td>MI REPUTACION.</td>\n",
       "      <td>[]</td>\n",
       "      <td>None</td>\n",
       "      <td>[]</td>\n",
       "      <td>30.0</td>\n",
       "      <td>{'local_pick_up': True, 'methods': [], 'tags':...</td>\n",
       "      <td>[{'description': 'Transferencia bancaria', 'id...</td>\n",
       "      <td>96873449</td>\n",
       "      <td>[]</td>\n",
       "      <td>...</td>\n",
       "      <td>active</td>\n",
       "      <td>None</td>\n",
       "      <td>NaN</td>\n",
       "      <td>None</td>\n",
       "      <td>1</td>\n",
       "      <td>2015-08-24T22:07:20.000Z</td>\n",
       "      <td>http://articulo.mercadolibre.com.ar/MLA-576112...</td>\n",
       "      <td>{'latitude': -34.6346547, 'longitude': -58.549...</td>\n",
       "      <td>0</td>\n",
       "      <td>1</td>\n",
       "    </tr>\n",
       "  </tbody>\n",
       "</table>\n",
       "<p>5 rows × 47 columns</p>\n",
       "</div>"
      ],
      "text/plain": [
       "                                      seller_address            warranty  \\\n",
       "0  {'comment': '', 'longitude': -58.3986709, 'id'...                None   \n",
       "1  {'comment': '', 'longitude': -58.5059173, 'id'...  NUESTRA REPUTACION   \n",
       "2  {'comment': '', 'longitude': -58.4143948, 'id'...                None   \n",
       "3  {'comment': '', 'longitude': -58.4929208, 'id'...                None   \n",
       "4  {'comment': '', 'longitude': -58.5495042, 'id'...      MI REPUTACION.   \n",
       "\n",
       "  sub_status seller_contact deal_ids  base_price  \\\n",
       "0         []           None       []        80.0   \n",
       "1         []           None       []      2650.0   \n",
       "2         []           None       []        60.0   \n",
       "3         []           None       []       580.0   \n",
       "4         []           None       []        30.0   \n",
       "\n",
       "                                            shipping  \\\n",
       "0  {'local_pick_up': True, 'methods': [], 'tags':...   \n",
       "1  {'local_pick_up': True, 'methods': [], 'tags':...   \n",
       "2  {'local_pick_up': True, 'methods': [], 'tags':...   \n",
       "3  {'local_pick_up': True, 'methods': [], 'tags':...   \n",
       "4  {'local_pick_up': True, 'methods': [], 'tags':...   \n",
       "\n",
       "                    non_mercado_pago_payment_methods  seller_id variations  \\\n",
       "0  [{'description': 'Transferencia bancaria', 'id...   74952096         []   \n",
       "1  [{'description': 'Transferencia bancaria', 'id...   42093335         []   \n",
       "2  [{'description': 'Transferencia bancaria', 'id...  133384258         []   \n",
       "3  [{'description': 'Transferencia bancaria', 'id...  143001605         []   \n",
       "4  [{'description': 'Transferencia bancaria', 'id...   96873449         []   \n",
       "\n",
       "   ...  status video_id catalog_product_id  subtitle initial_quantity  \\\n",
       "0  ...  active     None                NaN      None                1   \n",
       "1  ...  active     None                NaN      None                1   \n",
       "2  ...  active     None                NaN      None                1   \n",
       "3  ...  active     None                NaN      None                1   \n",
       "4  ...  active     None                NaN      None                1   \n",
       "\n",
       "                 start_time  \\\n",
       "0  2015-09-05T20:42:53.000Z   \n",
       "1  2015-09-26T18:08:30.000Z   \n",
       "2  2015-09-09T23:57:07.000Z   \n",
       "3  2015-09-28T18:47:56.000Z   \n",
       "4  2015-08-24T22:07:20.000Z   \n",
       "\n",
       "                                           permalink  \\\n",
       "0  http://articulo.mercadolibre.com.ar/MLA-578052...   \n",
       "1  http://articulo.mercadolibre.com.ar/MLA-581565...   \n",
       "2  http://articulo.mercadolibre.com.ar/MLA-578780...   \n",
       "3  http://articulo.mercadolibre.com.ar/MLA-581877...   \n",
       "4  http://articulo.mercadolibre.com.ar/MLA-576112...   \n",
       "\n",
       "                                         geolocation sold_quantity  \\\n",
       "0  {'latitude': -34.6280698, 'longitude': -58.398...             0   \n",
       "1  {'latitude': -34.5935524, 'longitude': -58.505...             0   \n",
       "2  {'latitude': -34.6233907, 'longitude': -58.414...             0   \n",
       "3  {'latitude': -34.6281894, 'longitude': -58.492...             0   \n",
       "4  {'latitude': -34.6346547, 'longitude': -58.549...             0   \n",
       "\n",
       "  available_quantity  \n",
       "0                  1  \n",
       "1                  1  \n",
       "2                  1  \n",
       "3                  1  \n",
       "4                  1  \n",
       "\n",
       "[5 rows x 47 columns]"
      ]
     },
     "execution_count": 11,
     "metadata": {},
     "output_type": "execute_result"
    }
   ],
   "source": [
    "X_train.head()"
   ]
  },
  {
   "cell_type": "markdown",
   "metadata": {},
   "source": [
    "### A. Warranty"
   ]
  },
  {
   "cell_type": "code",
   "execution_count": 12,
   "metadata": {},
   "outputs": [
    {
     "data": {
      "text/plain": [
       "Sí                                                                                                                                                                          5107\n",
       "Sin garantía                                                                                                                                                                4907\n",
       "SI                                                                                                                                                                           545\n",
       "6 meses                                                                                                                                                                      489\n",
       "6 MESES                                                                                                                                                                      361\n",
       "                                                                                                                                                                            ... \n",
       "3 meses por falla de fabricación                                                                                                                                               1\n",
       "4 meses de Garantía \\r                                                                                                                                                         1\n",
       "El cliente puede ver y revisar el articulo antes de cerrar la operacion.                                                                                                       1\n",
       "Mis calificaciones son una garantía                                                                                                                                            1\n",
       "Garantia de 1 semana despues de ser recibido. Surtira efecto si el comprador devuelve el producto entregado en las mismas condiciones en las cuales se le fue entregado.       1\n",
       "Name: warranty, Length: 9536, dtype: int64"
      ]
     },
     "execution_count": 12,
     "metadata": {},
     "output_type": "execute_result"
    }
   ],
   "source": [
    "X_train['warranty'].value_counts()"
   ]
  },
  {
   "cell_type": "markdown",
   "metadata": {},
   "source": [
    "We check if there are differences between ads with text in `warranty` or not."
   ]
  },
  {
   "cell_type": "code",
   "execution_count": 13,
   "metadata": {},
   "outputs": [
    {
     "name": "stdout",
     "output_type": "stream",
     "text": [
      "% of ads with no text: 0.6084111111111111\n",
      "% of ads with text: 0.3915888888888889\n"
     ]
    }
   ],
   "source": [
    "print(f\"% of ads with no text: {X_train['warranty'].isna().sum()/90_000}\")\n",
    "print(f\"% of ads with text: {X_train['warranty'].notna().sum()/90_000}\")"
   ]
  },
  {
   "cell_type": "code",
   "execution_count": 14,
   "metadata": {},
   "outputs": [
    {
     "data": {
      "text/plain": [
       "new     0.620747\n",
       "used    0.379253\n",
       "Name: condition, dtype: float64"
      ]
     },
     "execution_count": 14,
     "metadata": {},
     "output_type": "execute_result"
    }
   ],
   "source": [
    "mask = X_train.loc[X_train['warranty'].notna()].index\n",
    "y_train.loc[mask].value_counts(normalize=True)"
   ]
  },
  {
   "cell_type": "code",
   "execution_count": 15,
   "metadata": {},
   "outputs": [
    {
     "data": {
      "text/plain": [
       "used    0.5165\n",
       "new     0.4835\n",
       "Name: condition, dtype: float64"
      ]
     },
     "execution_count": 15,
     "metadata": {},
     "output_type": "execute_result"
    }
   ],
   "source": [
    "mask = X_train.loc[X_train['warranty'].isna()].index\n",
    "y_train.loc[mask].value_counts(normalize=True)"
   ]
  },
  {
   "cell_type": "markdown",
   "metadata": {},
   "source": [
    "#### Result\n",
    "It can be observed that there is a difference between publications that have some text in the `warranty` key to those that do not.\n",
    "Some RegEx might be helpful to find the differences between new and used products."
   ]
  },
  {
   "cell_type": "code",
   "execution_count": 16,
   "metadata": {},
   "outputs": [],
   "source": [
    "flaky = re.compile(\n",
    "    'reputa[cs]i|calif|confian|calidad|satis?f|confor|total|experi|trayector|' +\n",
    "    'prueb|nuevo|retir|revis|comprom|caract|falla',\n",
    "    re.IGNORECASE\n",
    ")\n",
    "\n",
    "yes = re.compile('s[iíÍI]|d[iíIÍ]as?|a[ñÑ]os?|mes(es)?|f[aáAÁ]brica|' +\n",
    "                 'vendedor|\\bcon\\sgara',\n",
    "                 re.IGNORECASE)\n",
    "\n",
    "no = re.compile('\\bno|\\bsin|usado|Sin garantía', re.IGNORECASE)"
   ]
  },
  {
   "cell_type": "code",
   "execution_count": 17,
   "metadata": {},
   "outputs": [
    {
     "name": "stderr",
     "output_type": "stream",
     "text": [
      "E:\\Miniconda3\\envs\\ds37\\lib\\site-packages\\pandas\\core\\strings.py:1954: UserWarning: This pattern has match groups. To actually get the groups, use str.extract.\n",
      "  return func(self, *args, **kwargs)\n"
     ]
    },
    {
     "data": {
      "text/plain": [
       "129051"
      ]
     },
     "execution_count": 17,
     "metadata": {},
     "output_type": "execute_result"
    }
   ],
   "source": [
    "X_train['warranty'].str.contains(no, na=False).sum()\\\n",
    "+ X_train['warranty'].str.contains(flaky, na=False).sum()\\\n",
    "+ X_train['warranty'].str.contains(yes, na=False).sum()\\\n",
    "+ X_train['warranty'].str.contains('', na=False).sum()\\\n",
    "+ X_train['warranty'].isna().sum()"
   ]
  },
  {
   "cell_type": "markdown",
   "metadata": {},
   "source": [
    "### B. Sub Status"
   ]
  },
  {
   "cell_type": "code",
   "execution_count": 18,
   "metadata": {},
   "outputs": [
    {
     "data": {
      "text/plain": [
       "new     0.553311\n",
       "used    0.446689\n",
       "Name: condition, dtype: float64"
      ]
     },
     "execution_count": 18,
     "metadata": {},
     "output_type": "execute_result"
    }
   ],
   "source": [
    "mask = X_train['sub_status'].apply(lambda x: True if x else False)\n",
    "y_train.loc[mask].value_counts(normalize=True)"
   ]
  },
  {
   "cell_type": "code",
   "execution_count": 19,
   "metadata": {},
   "outputs": [
    {
     "data": {
      "text/plain": [
       "new     0.537084\n",
       "used    0.462916\n",
       "Name: condition, dtype: float64"
      ]
     },
     "execution_count": 19,
     "metadata": {},
     "output_type": "execute_result"
    }
   ],
   "source": [
    "y_train.loc[~mask].value_counts(normalize=True)"
   ]
  },
  {
   "cell_type": "markdown",
   "metadata": {},
   "source": [
    "#### Result\n",
    "No significant differences found. The feature should be deleted."
   ]
  },
  {
   "cell_type": "markdown",
   "metadata": {},
   "source": [
    "### C. Deal IDs"
   ]
  },
  {
   "cell_type": "code",
   "execution_count": 20,
   "metadata": {},
   "outputs": [
    {
     "data": {
      "text/plain": [
       "new     0.981567\n",
       "used    0.018433\n",
       "Name: condition, dtype: float64"
      ]
     },
     "metadata": {},
     "output_type": "display_data"
    },
    {
     "name": "stdout",
     "output_type": "stream",
     "text": [
      "\n"
     ]
    },
    {
     "data": {
      "text/plain": [
       "new     0.536171\n",
       "used    0.463829\n",
       "Name: condition, dtype: float64"
      ]
     },
     "metadata": {},
     "output_type": "display_data"
    }
   ],
   "source": [
    "mask = X_train['deal_ids'].apply(lambda x: True if x else False)\n",
    "\n",
    "display(y_train.loc[mask].value_counts(normalize=True))\n",
    "print()\n",
    "display(y_train.loc[~mask].value_counts(normalize=True))"
   ]
  },
  {
   "cell_type": "code",
   "execution_count": 21,
   "metadata": {},
   "outputs": [
    {
     "data": {
      "text/plain": [
       "MLA58    55\n",
       "MLA69    36\n",
       "MLA4     36\n",
       "MLA60    35\n",
       "MLA70    29\n",
       "MLA3     12\n",
       "MLA25     6\n",
       "MLA99     5\n",
       "MLA17     2\n",
       "MLA68     1\n",
       "Name: deal_ids, dtype: int64"
      ]
     },
     "execution_count": 21,
     "metadata": {},
     "output_type": "execute_result"
    }
   ],
   "source": [
    "X_train['deal_ids'].apply(lambda x: x[0] if x else np.nan).dropna().value_counts()"
   ]
  },
  {
   "cell_type": "markdown",
   "metadata": {},
   "source": [
    "#### Result\n",
    "Even though there are not many ads with content here, the difference can be appreciated. Esentially, if a publication has a deal, it's most likely a new product."
   ]
  },
  {
   "cell_type": "markdown",
   "metadata": {},
   "source": [
    "### D. Prices\n",
    "We'll check both base price and original price in order to find any relationship with the product's condition."
   ]
  },
  {
   "cell_type": "code",
   "execution_count": 22,
   "metadata": {},
   "outputs": [
    {
     "data": {
      "text/html": [
       "<div>\n",
       "<style scoped>\n",
       "    .dataframe tbody tr th:only-of-type {\n",
       "        vertical-align: middle;\n",
       "    }\n",
       "\n",
       "    .dataframe tbody tr th {\n",
       "        vertical-align: top;\n",
       "    }\n",
       "\n",
       "    .dataframe thead th {\n",
       "        text-align: right;\n",
       "    }\n",
       "</style>\n",
       "<table border=\"1\" class=\"dataframe\">\n",
       "  <thead>\n",
       "    <tr style=\"text-align: right;\">\n",
       "      <th></th>\n",
       "      <th>base_price</th>\n",
       "      <th>original_price</th>\n",
       "      <th>price</th>\n",
       "    </tr>\n",
       "  </thead>\n",
       "  <tbody>\n",
       "    <tr>\n",
       "      <th>0</th>\n",
       "      <td>80.00</td>\n",
       "      <td>NaN</td>\n",
       "      <td>80.00</td>\n",
       "    </tr>\n",
       "    <tr>\n",
       "      <th>1</th>\n",
       "      <td>2650.00</td>\n",
       "      <td>NaN</td>\n",
       "      <td>2650.00</td>\n",
       "    </tr>\n",
       "    <tr>\n",
       "      <th>2</th>\n",
       "      <td>60.00</td>\n",
       "      <td>NaN</td>\n",
       "      <td>60.00</td>\n",
       "    </tr>\n",
       "    <tr>\n",
       "      <th>3</th>\n",
       "      <td>580.00</td>\n",
       "      <td>NaN</td>\n",
       "      <td>580.00</td>\n",
       "    </tr>\n",
       "    <tr>\n",
       "      <th>4</th>\n",
       "      <td>30.00</td>\n",
       "      <td>NaN</td>\n",
       "      <td>30.00</td>\n",
       "    </tr>\n",
       "    <tr>\n",
       "      <th>...</th>\n",
       "      <td>...</td>\n",
       "      <td>...</td>\n",
       "      <td>...</td>\n",
       "    </tr>\n",
       "    <tr>\n",
       "      <th>89995</th>\n",
       "      <td>68.00</td>\n",
       "      <td>NaN</td>\n",
       "      <td>68.00</td>\n",
       "    </tr>\n",
       "    <tr>\n",
       "      <th>89996</th>\n",
       "      <td>126.00</td>\n",
       "      <td>NaN</td>\n",
       "      <td>126.00</td>\n",
       "    </tr>\n",
       "    <tr>\n",
       "      <th>89997</th>\n",
       "      <td>300.00</td>\n",
       "      <td>NaN</td>\n",
       "      <td>300.00</td>\n",
       "    </tr>\n",
       "    <tr>\n",
       "      <th>89998</th>\n",
       "      <td>696.58</td>\n",
       "      <td>NaN</td>\n",
       "      <td>696.58</td>\n",
       "    </tr>\n",
       "    <tr>\n",
       "      <th>89999</th>\n",
       "      <td>470.00</td>\n",
       "      <td>NaN</td>\n",
       "      <td>470.00</td>\n",
       "    </tr>\n",
       "  </tbody>\n",
       "</table>\n",
       "<p>90000 rows × 3 columns</p>\n",
       "</div>"
      ],
      "text/plain": [
       "       base_price  original_price    price\n",
       "0           80.00             NaN    80.00\n",
       "1         2650.00             NaN  2650.00\n",
       "2           60.00             NaN    60.00\n",
       "3          580.00             NaN   580.00\n",
       "4           30.00             NaN    30.00\n",
       "...           ...             ...      ...\n",
       "89995       68.00             NaN    68.00\n",
       "89996      126.00             NaN   126.00\n",
       "89997      300.00             NaN   300.00\n",
       "89998      696.58             NaN   696.58\n",
       "89999      470.00             NaN   470.00\n",
       "\n",
       "[90000 rows x 3 columns]"
      ]
     },
     "execution_count": 22,
     "metadata": {},
     "output_type": "execute_result"
    }
   ],
   "source": [
    "X_train[['base_price', 'original_price', 'price']]"
   ]
  },
  {
   "cell_type": "code",
   "execution_count": 23,
   "metadata": {},
   "outputs": [],
   "source": [
    "df['has_original_price'] = df['original_price'].notna().astype(int)"
   ]
  },
  {
   "cell_type": "code",
   "execution_count": 24,
   "metadata": {},
   "outputs": [
    {
     "data": {
      "text/plain": [
       "base_price           -0.000965\n",
       "has_original_price    0.035298\n",
       "price                -0.000965\n",
       "Name: condition, dtype: float64"
      ]
     },
     "execution_count": 24,
     "metadata": {},
     "output_type": "execute_result"
    }
   ],
   "source": [
    "df.corr()['condition'][['base_price', 'has_original_price', 'price']]"
   ]
  },
  {
   "cell_type": "markdown",
   "metadata": {},
   "source": [
    "#### Result\n",
    "Prices don't seem relevant in the analysis"
   ]
  },
  {
   "cell_type": "markdown",
   "metadata": {},
   "source": [
    "### E. Shipping"
   ]
  },
  {
   "cell_type": "code",
   "execution_count": 25,
   "metadata": {},
   "outputs": [],
   "source": [
    "shipping = pd.DataFrame(df['shipping'].to_dict()).T\n",
    "df = pd.concat([df, shipping], axis=1)"
   ]
  },
  {
   "cell_type": "code",
   "execution_count": 26,
   "metadata": {},
   "outputs": [
    {
     "data": {
      "text/plain": [
       "local_pick_up    object\n",
       "methods          object\n",
       "tags             object\n",
       "tags             object\n",
       "free_shipping    object\n",
       "mode             object\n",
       "dimensions       object\n",
       "free_methods     object\n",
       "dtype: object"
      ]
     },
     "execution_count": 26,
     "metadata": {},
     "output_type": "execute_result"
    }
   ],
   "source": [
    "df.loc[:, shipping.columns.to_list()].dtypes"
   ]
  },
  {
   "cell_type": "code",
   "execution_count": 27,
   "metadata": {},
   "outputs": [
    {
     "data": {
      "text/html": [
       "<div>\n",
       "<style scoped>\n",
       "    .dataframe tbody tr th:only-of-type {\n",
       "        vertical-align: middle;\n",
       "    }\n",
       "\n",
       "    .dataframe tbody tr th {\n",
       "        vertical-align: top;\n",
       "    }\n",
       "\n",
       "    .dataframe thead th {\n",
       "        text-align: right;\n",
       "    }\n",
       "</style>\n",
       "<table border=\"1\" class=\"dataframe\">\n",
       "  <thead>\n",
       "    <tr style=\"text-align: right;\">\n",
       "      <th></th>\n",
       "      <th>local_pick_up</th>\n",
       "      <th>methods</th>\n",
       "      <th>tags</th>\n",
       "      <th>tags</th>\n",
       "      <th>free_shipping</th>\n",
       "      <th>mode</th>\n",
       "      <th>dimensions</th>\n",
       "      <th>free_methods</th>\n",
       "    </tr>\n",
       "  </thead>\n",
       "  <tbody>\n",
       "    <tr>\n",
       "      <th>0</th>\n",
       "      <td>True</td>\n",
       "      <td>[]</td>\n",
       "      <td>[dragged_bids_and_visits]</td>\n",
       "      <td>[]</td>\n",
       "      <td>False</td>\n",
       "      <td>not_specified</td>\n",
       "      <td>None</td>\n",
       "      <td>NaN</td>\n",
       "    </tr>\n",
       "    <tr>\n",
       "      <th>1</th>\n",
       "      <td>True</td>\n",
       "      <td>[]</td>\n",
       "      <td>[]</td>\n",
       "      <td>[]</td>\n",
       "      <td>False</td>\n",
       "      <td>me2</td>\n",
       "      <td>None</td>\n",
       "      <td>NaN</td>\n",
       "    </tr>\n",
       "    <tr>\n",
       "      <th>2</th>\n",
       "      <td>True</td>\n",
       "      <td>[]</td>\n",
       "      <td>[dragged_bids_and_visits]</td>\n",
       "      <td>[]</td>\n",
       "      <td>False</td>\n",
       "      <td>me2</td>\n",
       "      <td>None</td>\n",
       "      <td>NaN</td>\n",
       "    </tr>\n",
       "    <tr>\n",
       "      <th>3</th>\n",
       "      <td>True</td>\n",
       "      <td>[]</td>\n",
       "      <td>[]</td>\n",
       "      <td>[]</td>\n",
       "      <td>False</td>\n",
       "      <td>me2</td>\n",
       "      <td>None</td>\n",
       "      <td>NaN</td>\n",
       "    </tr>\n",
       "    <tr>\n",
       "      <th>4</th>\n",
       "      <td>True</td>\n",
       "      <td>[]</td>\n",
       "      <td>[dragged_bids_and_visits]</td>\n",
       "      <td>[]</td>\n",
       "      <td>False</td>\n",
       "      <td>not_specified</td>\n",
       "      <td>None</td>\n",
       "      <td>NaN</td>\n",
       "    </tr>\n",
       "    <tr>\n",
       "      <th>...</th>\n",
       "      <td>...</td>\n",
       "      <td>...</td>\n",
       "      <td>...</td>\n",
       "      <td>...</td>\n",
       "      <td>...</td>\n",
       "      <td>...</td>\n",
       "      <td>...</td>\n",
       "      <td>...</td>\n",
       "    </tr>\n",
       "    <tr>\n",
       "      <th>89995</th>\n",
       "      <td>False</td>\n",
       "      <td>[]</td>\n",
       "      <td>[dragged_bids_and_visits]</td>\n",
       "      <td>[]</td>\n",
       "      <td>False</td>\n",
       "      <td>me2</td>\n",
       "      <td>None</td>\n",
       "      <td>NaN</td>\n",
       "    </tr>\n",
       "    <tr>\n",
       "      <th>89996</th>\n",
       "      <td>True</td>\n",
       "      <td>[]</td>\n",
       "      <td>[dragged_bids_and_visits]</td>\n",
       "      <td>[]</td>\n",
       "      <td>False</td>\n",
       "      <td>custom</td>\n",
       "      <td>None</td>\n",
       "      <td>NaN</td>\n",
       "    </tr>\n",
       "    <tr>\n",
       "      <th>89997</th>\n",
       "      <td>True</td>\n",
       "      <td>[]</td>\n",
       "      <td>[dragged_bids_and_visits]</td>\n",
       "      <td>[]</td>\n",
       "      <td>False</td>\n",
       "      <td>not_specified</td>\n",
       "      <td>None</td>\n",
       "      <td>NaN</td>\n",
       "    </tr>\n",
       "    <tr>\n",
       "      <th>89998</th>\n",
       "      <td>False</td>\n",
       "      <td>[]</td>\n",
       "      <td>[dragged_bids_and_visits]</td>\n",
       "      <td>[]</td>\n",
       "      <td>False</td>\n",
       "      <td>not_specified</td>\n",
       "      <td>None</td>\n",
       "      <td>NaN</td>\n",
       "    </tr>\n",
       "    <tr>\n",
       "      <th>89999</th>\n",
       "      <td>True</td>\n",
       "      <td>[]</td>\n",
       "      <td>[dragged_bids_and_visits]</td>\n",
       "      <td>[]</td>\n",
       "      <td>False</td>\n",
       "      <td>not_specified</td>\n",
       "      <td>None</td>\n",
       "      <td>NaN</td>\n",
       "    </tr>\n",
       "  </tbody>\n",
       "</table>\n",
       "<p>90000 rows × 8 columns</p>\n",
       "</div>"
      ],
      "text/plain": [
       "      local_pick_up methods                       tags tags free_shipping  \\\n",
       "0              True      []  [dragged_bids_and_visits]   []         False   \n",
       "1              True      []                         []   []         False   \n",
       "2              True      []  [dragged_bids_and_visits]   []         False   \n",
       "3              True      []                         []   []         False   \n",
       "4              True      []  [dragged_bids_and_visits]   []         False   \n",
       "...             ...     ...                        ...  ...           ...   \n",
       "89995         False      []  [dragged_bids_and_visits]   []         False   \n",
       "89996          True      []  [dragged_bids_and_visits]   []         False   \n",
       "89997          True      []  [dragged_bids_and_visits]   []         False   \n",
       "89998         False      []  [dragged_bids_and_visits]   []         False   \n",
       "89999          True      []  [dragged_bids_and_visits]   []         False   \n",
       "\n",
       "                mode dimensions free_methods  \n",
       "0      not_specified       None          NaN  \n",
       "1                me2       None          NaN  \n",
       "2                me2       None          NaN  \n",
       "3                me2       None          NaN  \n",
       "4      not_specified       None          NaN  \n",
       "...              ...        ...          ...  \n",
       "89995            me2       None          NaN  \n",
       "89996         custom       None          NaN  \n",
       "89997  not_specified       None          NaN  \n",
       "89998  not_specified       None          NaN  \n",
       "89999  not_specified       None          NaN  \n",
       "\n",
       "[90000 rows x 8 columns]"
      ]
     },
     "execution_count": 27,
     "metadata": {},
     "output_type": "execute_result"
    }
   ],
   "source": [
    "df.loc[:, shipping.columns.to_list()]"
   ]
  },
  {
   "cell_type": "code",
   "execution_count": 28,
   "metadata": {},
   "outputs": [],
   "source": [
    "df['local_pick_up'] = df['local_pick_up'].astype(int)\n",
    "df['free_shipping'] = df['free_shipping'].astype(int)"
   ]
  },
  {
   "cell_type": "code",
   "execution_count": 29,
   "metadata": {},
   "outputs": [
    {
     "data": {
      "text/plain": [
       "2689"
      ]
     },
     "execution_count": 29,
     "metadata": {},
     "output_type": "execute_result"
    }
   ],
   "source": [
    "df['free_methods'].notna().sum()"
   ]
  },
  {
   "cell_type": "code",
   "execution_count": 30,
   "metadata": {},
   "outputs": [
    {
     "data": {
      "text/plain": [
       "73328     2642\n",
       "73330       37\n",
       "501145       6\n",
       "501146       4\n",
       "Name: free_methods, dtype: int64"
      ]
     },
     "execution_count": 30,
     "metadata": {},
     "output_type": "execute_result"
    }
   ],
   "source": [
    "df.loc[df['free_methods'].notna(), 'free_methods'].apply(lambda x: x[0].get('id')).value_counts()"
   ]
  },
  {
   "cell_type": "code",
   "execution_count": 31,
   "metadata": {},
   "outputs": [
    {
     "data": {
      "text/plain": [
       "0        NaN\n",
       "1        NaN\n",
       "2        NaN\n",
       "3        NaN\n",
       "4        NaN\n",
       "        ... \n",
       "89995    NaN\n",
       "89996    NaN\n",
       "89997    NaN\n",
       "89998    NaN\n",
       "89999    NaN\n",
       "Name: free_methods, Length: 90000, dtype: object"
      ]
     },
     "execution_count": 31,
     "metadata": {},
     "output_type": "execute_result"
    }
   ],
   "source": [
    "df['free_methods'].mask(df['free_methods'].isna(), lambda x: x[0].get('id') if isinstance(x, list) else np.nan)"
   ]
  },
  {
   "cell_type": "code",
   "execution_count": 32,
   "metadata": {},
   "outputs": [],
   "source": [
    "df.loc[df['free_methods'].notna(), 'free_methods'] = df.loc[\n",
    "        df['free_methods'].notna(), 'free_methods']\\\n",
    "        .apply(lambda x: x[0].get('id'))"
   ]
  },
  {
   "cell_type": "code",
   "execution_count": 33,
   "metadata": {},
   "outputs": [
    {
     "data": {
      "text/plain": [
       "free_methods  condition\n",
       "73328         1            2449\n",
       "              0             193\n",
       "73330         1              35\n",
       "              0               2\n",
       "501145        1               6\n",
       "501146        1               4\n",
       "Name: condition, dtype: int64"
      ]
     },
     "execution_count": 33,
     "metadata": {},
     "output_type": "execute_result"
    }
   ],
   "source": [
    "df.groupby('free_methods')['condition'].value_counts()"
   ]
  },
  {
   "cell_type": "code",
   "execution_count": 34,
   "metadata": {},
   "outputs": [
    {
     "data": {
      "text/plain": [
       "Series([], Name: methods, dtype: object)"
      ]
     },
     "execution_count": 34,
     "metadata": {},
     "output_type": "execute_result"
    }
   ],
   "source": [
    "df.loc[df['methods'].fillna(False).apply(lambda x: True if x else False), 'methods']"
   ]
  },
  {
   "cell_type": "code",
   "execution_count": 35,
   "metadata": {},
   "outputs": [],
   "source": [
    "tags = df['tags'].copy()\n",
    "tags.columns = ['tags1', 'tags2']\n",
    "df.drop(columns=['tags'], inplace=True)\n",
    "df = pd.concat([df, tags], axis=1)"
   ]
  },
  {
   "cell_type": "code",
   "execution_count": 36,
   "metadata": {},
   "outputs": [
    {
     "data": {
      "text/plain": [
       "dragged_bids_and_visits    65315\n",
       "good_quality_thumbnail      1537\n",
       "dragged_visits               723\n",
       "poor_quality_thumbnail        13\n",
       "Name: tags1, dtype: int64"
      ]
     },
     "execution_count": 36,
     "metadata": {},
     "output_type": "execute_result"
    }
   ],
   "source": [
    "df['tags1'] = df['tags1'].apply(lambda x: x[0] if x else np.nan)\n",
    "df['tags1'].value_counts()"
   ]
  },
  {
   "cell_type": "code",
   "execution_count": 37,
   "metadata": {},
   "outputs": [
    {
     "data": {
      "text/plain": [
       "tags1                    condition\n",
       "dragged_bids_and_visits  1            0.529388\n",
       "                         0            0.470612\n",
       "dragged_visits           0            0.749654\n",
       "                         1            0.250346\n",
       "good_quality_thumbnail   1            0.886792\n",
       "                         0            0.113208\n",
       "poor_quality_thumbnail   1            1.000000\n",
       "Name: condition, dtype: float64"
      ]
     },
     "execution_count": 37,
     "metadata": {},
     "output_type": "execute_result"
    }
   ],
   "source": [
    "df.groupby('tags1')['condition'].value_counts(normalize=True)"
   ]
  },
  {
   "cell_type": "code",
   "execution_count": 38,
   "metadata": {},
   "outputs": [
    {
     "data": {
      "text/plain": [
       "relisted_with_modifications    50\n",
       "free_method_upgraded            9\n",
       "Name: tags2, dtype: int64"
      ]
     },
     "execution_count": 38,
     "metadata": {},
     "output_type": "execute_result"
    }
   ],
   "source": [
    "df['tags2'] = df['tags2'].apply(lambda x: x[0] if x else np.nan)\n",
    "df['tags2'].value_counts()"
   ]
  },
  {
   "cell_type": "code",
   "execution_count": 39,
   "metadata": {},
   "outputs": [
    {
     "data": {
      "text/plain": [
       "tags2                        condition\n",
       "free_method_upgraded         1            1.00\n",
       "relisted_with_modifications  1            0.64\n",
       "                             0            0.36\n",
       "Name: condition, dtype: float64"
      ]
     },
     "execution_count": 39,
     "metadata": {},
     "output_type": "execute_result"
    }
   ],
   "source": [
    "df.groupby('tags2')['condition'].value_counts(normalize=True)"
   ]
  },
  {
   "cell_type": "code",
   "execution_count": 40,
   "metadata": {},
   "outputs": [
    {
     "data": {
      "image/png": "[encoded data removed]",
      "text/plain": [
       "<Figure size 216x576 with 2 Axes>"
      ]
     },
     "metadata": {
      "needs_background": "light"
     },
     "output_type": "display_data"
    }
   ],
   "source": [
    "shipping = pd.get_dummies(df[['local_pick_up', 'free_shipping',  'mode', 'free_methods', 'tags1', 'tags2']])\n",
    "shipping = pd.concat([shipping, df['condition']], axis=1)\n",
    "\n",
    "plt.figure(figsize=(3,8))\n",
    "sns.heatmap(shipping.corr()[['condition']], vmin=-1, vmax=1, annot=True, fmt='.2f', cmap='icefire');"
   ]
  },
  {
   "cell_type": "markdown",
   "metadata": {},
   "source": [
    "#### Result\n",
    "Some weak correlations appear to be found in variables related to shipping."
   ]
  },
  {
   "cell_type": "markdown",
   "metadata": {},
   "source": [
    "### F. Descriptions"
   ]
  },
  {
   "cell_type": "code",
   "execution_count": 41,
   "metadata": {},
   "outputs": [
    {
     "data": {
      "text/plain": [
       "MLA576117780-903001885    1\n",
       "MLA578786691-916491686    1\n",
       "MLA576324730-903989739    1\n",
       "MLA583257024-938679811    1\n",
       "MLA583219321-938531138    1\n",
       "                         ..\n",
       "MLA576614284-905370380    1\n",
       "MLA582652627-935943298    1\n",
       "MLA580655533-926061379    1\n",
       "MLA583591094-940136569    1\n",
       "MLA583202208-938451967    1\n",
       "Name: descriptions, Length: 87583, dtype: int64"
      ]
     },
     "execution_count": 41,
     "metadata": {},
     "output_type": "execute_result"
    }
   ],
   "source": [
    "X_train['descriptions'].apply(lambda x: x[0].get('id') if x else np.nan).value_counts()"
   ]
  },
  {
   "cell_type": "markdown",
   "metadata": {},
   "source": [
    "#### Result\n",
    "Description does not contain useful information, it's just an ID."
   ]
  },
  {
   "cell_type": "markdown",
   "metadata": {},
   "source": [
    "### G. Attributes"
   ]
  },
  {
   "cell_type": "code",
   "execution_count": 42,
   "metadata": {},
   "outputs": [
    {
     "name": "stdout",
     "output_type": "stream",
     "text": [
      "11150\n"
     ]
    },
    {
     "data": {
      "text/plain": [
       "2     7651\n",
       "1     1366\n",
       "65     783\n",
       "14     161\n",
       "3      141\n",
       "50     101\n",
       "6       99\n",
       "52      99\n",
       "13      93\n",
       "9       57\n",
       "Name: attributes, dtype: int64"
      ]
     },
     "execution_count": 42,
     "metadata": {},
     "output_type": "execute_result"
    }
   ],
   "source": [
    "mask = df['attributes'].apply(lambda x: True if x else False)\n",
    "print(mask.sum())\n",
    "df.loc[mask, 'attributes'].apply(len).value_counts().head(10)"
   ]
  },
  {
   "cell_type": "code",
   "execution_count": 43,
   "metadata": {},
   "outputs": [
    {
     "data": {
      "text/plain": [
       "1    0.598834\n",
       "0    0.401166\n",
       "Name: condition, dtype: float64"
      ]
     },
     "metadata": {},
     "output_type": "display_data"
    },
    {
     "name": "stdout",
     "output_type": "stream",
     "text": [
      "\n"
     ]
    },
    {
     "data": {
      "text/plain": [
       "1    0.528535\n",
       "0    0.471465\n",
       "Name: condition, dtype: float64"
      ]
     },
     "metadata": {},
     "output_type": "display_data"
    }
   ],
   "source": [
    "display(df.loc[mask, 'condition'].value_counts(normalize=True))\n",
    "print()\n",
    "display(df.loc[~mask, 'condition'].value_counts(normalize=True))"
   ]
  },
  {
   "cell_type": "code",
   "execution_count": 44,
   "metadata": {},
   "outputs": [],
   "source": [
    "att = df.loc[mask, 'attributes'].explode()\n",
    "att = pd.DataFrame(att.to_list(), index=att.index)"
   ]
  },
  {
   "cell_type": "code",
   "execution_count": 45,
   "metadata": {},
   "outputs": [
    {
     "data": {
      "text/html": [
       "<div>\n",
       "<style scoped>\n",
       "    .dataframe tbody tr th:only-of-type {\n",
       "        vertical-align: middle;\n",
       "    }\n",
       "\n",
       "    .dataframe tbody tr th {\n",
       "        vertical-align: top;\n",
       "    }\n",
       "\n",
       "    .dataframe thead th {\n",
       "        text-align: right;\n",
       "    }\n",
       "</style>\n",
       "<table border=\"1\" class=\"dataframe\">\n",
       "  <thead>\n",
       "    <tr style=\"text-align: right;\">\n",
       "      <th></th>\n",
       "      <th>value_id</th>\n",
       "      <th>attribute_group_id</th>\n",
       "      <th>name</th>\n",
       "      <th>value_name</th>\n",
       "      <th>attribute_group_name</th>\n",
       "      <th>id</th>\n",
       "    </tr>\n",
       "  </thead>\n",
       "  <tbody>\n",
       "    <tr>\n",
       "      <th>8</th>\n",
       "      <td></td>\n",
       "      <td>DFLT</td>\n",
       "      <td>Número de pieza</td>\n",
       "      <td>37123</td>\n",
       "      <td>Otros</td>\n",
       "      <td>PART_NUMBER</td>\n",
       "    </tr>\n",
       "    <tr>\n",
       "      <th>9</th>\n",
       "      <td>female</td>\n",
       "      <td>DFLT</td>\n",
       "      <td>Género</td>\n",
       "      <td>Mujer</td>\n",
       "      <td>Otros</td>\n",
       "      <td>GENDER</td>\n",
       "    </tr>\n",
       "    <tr>\n",
       "      <th>9</th>\n",
       "      <td>Season-Spring-Summer</td>\n",
       "      <td>FIND</td>\n",
       "      <td>Season</td>\n",
       "      <td>Spring-Summer</td>\n",
       "      <td>Ficha técnica</td>\n",
       "      <td>Season</td>\n",
       "    </tr>\n",
       "    <tr>\n",
       "      <th>12</th>\n",
       "      <td></td>\n",
       "      <td>DFLT</td>\n",
       "      <td>Número pieza</td>\n",
       "      <td>2</td>\n",
       "      <td>Otros</td>\n",
       "      <td>MLA-PART_NUMBER</td>\n",
       "    </tr>\n",
       "    <tr>\n",
       "      <th>13</th>\n",
       "      <td>female</td>\n",
       "      <td>DFLT</td>\n",
       "      <td>Género</td>\n",
       "      <td>Mujer</td>\n",
       "      <td>Otros</td>\n",
       "      <td>GENDER</td>\n",
       "    </tr>\n",
       "    <tr>\n",
       "      <th>...</th>\n",
       "      <td>...</td>\n",
       "      <td>...</td>\n",
       "      <td>...</td>\n",
       "      <td>...</td>\n",
       "      <td>...</td>\n",
       "      <td>...</td>\n",
       "    </tr>\n",
       "    <tr>\n",
       "      <th>89991</th>\n",
       "      <td>Season-All-Season</td>\n",
       "      <td>DFLT</td>\n",
       "      <td>Season</td>\n",
       "      <td>All-Season</td>\n",
       "      <td>Otros</td>\n",
       "      <td>Season</td>\n",
       "    </tr>\n",
       "    <tr>\n",
       "      <th>89994</th>\n",
       "      <td>female</td>\n",
       "      <td>DFLT</td>\n",
       "      <td>Género</td>\n",
       "      <td>Mujer</td>\n",
       "      <td>Otros</td>\n",
       "      <td>GENDER</td>\n",
       "    </tr>\n",
       "    <tr>\n",
       "      <th>89994</th>\n",
       "      <td>Season-All-Season</td>\n",
       "      <td>DFLT</td>\n",
       "      <td>Season</td>\n",
       "      <td>All-Season</td>\n",
       "      <td>Otros</td>\n",
       "      <td>Season</td>\n",
       "    </tr>\n",
       "    <tr>\n",
       "      <th>89999</th>\n",
       "      <td>female</td>\n",
       "      <td>DFLT</td>\n",
       "      <td>Género</td>\n",
       "      <td>Mujer</td>\n",
       "      <td>Otros</td>\n",
       "      <td>GENDER</td>\n",
       "    </tr>\n",
       "    <tr>\n",
       "      <th>89999</th>\n",
       "      <td>Season-Autumn-Winter</td>\n",
       "      <td>FIND</td>\n",
       "      <td>Season</td>\n",
       "      <td>Autumn-Winter</td>\n",
       "      <td>Ficha técnica</td>\n",
       "      <td>Season</td>\n",
       "    </tr>\n",
       "  </tbody>\n",
       "</table>\n",
       "<p>105915 rows × 6 columns</p>\n",
       "</div>"
      ],
      "text/plain": [
       "                   value_id attribute_group_id             name  \\\n",
       "8                                         DFLT  Número de pieza   \n",
       "9                    female               DFLT           Género   \n",
       "9      Season-Spring-Summer               FIND           Season   \n",
       "12                                        DFLT     Número pieza   \n",
       "13                   female               DFLT           Género   \n",
       "...                     ...                ...              ...   \n",
       "89991     Season-All-Season               DFLT           Season   \n",
       "89994                female               DFLT           Género   \n",
       "89994     Season-All-Season               DFLT           Season   \n",
       "89999                female               DFLT           Género   \n",
       "89999  Season-Autumn-Winter               FIND           Season   \n",
       "\n",
       "          value_name attribute_group_name               id  \n",
       "8              37123                Otros      PART_NUMBER  \n",
       "9              Mujer                Otros           GENDER  \n",
       "9      Spring-Summer        Ficha técnica           Season  \n",
       "12                 2                Otros  MLA-PART_NUMBER  \n",
       "13             Mujer                Otros           GENDER  \n",
       "...              ...                  ...              ...  \n",
       "89991     All-Season                Otros           Season  \n",
       "89994          Mujer                Otros           GENDER  \n",
       "89994     All-Season                Otros           Season  \n",
       "89999          Mujer                Otros           GENDER  \n",
       "89999  Autumn-Winter        Ficha técnica           Season  \n",
       "\n",
       "[105915 rows x 6 columns]"
      ]
     },
     "execution_count": 45,
     "metadata": {},
     "output_type": "execute_result"
    }
   ],
   "source": [
    "att"
   ]
  },
  {
   "cell_type": "markdown",
   "metadata": {},
   "source": [
    "#### Result\n",
    "Attributes appear to add too much dimentionality and not much information. The fact that are present show a slight difference between conditions."
   ]
  },
  {
   "cell_type": "markdown",
   "metadata": {},
   "source": [
    "### H. Listing Type ID"
   ]
  },
  {
   "cell_type": "code",
   "execution_count": 46,
   "metadata": {},
   "outputs": [
    {
     "data": {
      "image/png": "[encoded data removed]",
      "text/plain": [
       "<Figure size 864x144 with 2 Axes>"
      ]
     },
     "metadata": {
      "needs_background": "light"
     },
     "output_type": "display_data"
    }
   ],
   "source": [
    "plt.figure(figsize=(12,2))\n",
    "sns.heatmap(\n",
    "    pd.get_dummies(df['listing_type_id'])\\\n",
    "    .join(df['condition'])\\\n",
    "    .corr()[['condition']].T,\n",
    "    vmin=-1,\n",
    "    vmax=1,\n",
    "    annot=True,\n",
    "    fmt='.2f',\n",
    "    cmap='icefire'\n",
    ");"
   ]
  },
  {
   "cell_type": "markdown",
   "metadata": {},
   "source": [
    "### I. Non MercadoPago Payment Methods"
   ]
  },
  {
   "cell_type": "code",
   "execution_count": 47,
   "metadata": {},
   "outputs": [],
   "source": [
    "df['alt_pmts'] = df['non_mercado_pago_payment_methods'].apply(\n",
    "    lambda x: [y.get('description') for y in x] if x else None\n",
    ")"
   ]
  },
  {
   "cell_type": "code",
   "execution_count": 48,
   "metadata": {},
   "outputs": [
    {
     "data": {
      "text/plain": [
       "{'Acordar con el comprador',\n",
       " 'American Express',\n",
       " 'Cheque certificado',\n",
       " 'Contra reembolso',\n",
       " 'Diners',\n",
       " 'Efectivo',\n",
       " 'Giro postal',\n",
       " 'MasterCard',\n",
       " 'Mastercard Maestro',\n",
       " 'MercadoPago',\n",
       " 'Tarjeta de crédito',\n",
       " 'Transferencia bancaria',\n",
       " 'Visa',\n",
       " 'Visa Electron'}"
      ]
     },
     "execution_count": 48,
     "metadata": {},
     "output_type": "execute_result"
    }
   ],
   "source": [
    "pmt = []\n",
    "[pmt.extend(x) for x in df['alt_pmts'].dropna().to_list()]\n",
    "pmt = set(pmt)\n",
    "pmt"
   ]
  },
  {
   "cell_type": "code",
   "execution_count": 49,
   "metadata": {},
   "outputs": [
    {
     "data": {
      "text/plain": [
       "0        [Transferencia bancaria, Acordar con el compra...\n",
       "1                       [Transferencia bancaria, Efectivo]\n",
       "2        [Transferencia bancaria, Tarjeta de crédito, E...\n",
       "3        [Transferencia bancaria, Tarjeta de crédito, E...\n",
       "4        [Transferencia bancaria, Acordar con el compra...\n",
       "                               ...                        \n",
       "89995                                                 None\n",
       "89996                   [Transferencia bancaria, Efectivo]\n",
       "89997                                           [Efectivo]\n",
       "89998                           [Acordar con el comprador]\n",
       "89999                                                 None\n",
       "Name: alt_pmts, Length: 90000, dtype: object"
      ]
     },
     "execution_count": 49,
     "metadata": {},
     "output_type": "execute_result"
    }
   ],
   "source": [
    "df['alt_pmts']"
   ]
  },
  {
   "cell_type": "code",
   "execution_count": 50,
   "metadata": {},
   "outputs": [],
   "source": [
    "def payment_mapper(pmt_list):\n",
    "    result = pd.Series(0, index=pmt)\n",
    "    if pmt_list:\n",
    "        result[pmt_list] = 1\n",
    "    return result"
   ]
  },
  {
   "cell_type": "code",
   "execution_count": 51,
   "metadata": {},
   "outputs": [],
   "source": [
    "payments = df['alt_pmts'].apply(payment_mapper)"
   ]
  },
  {
   "cell_type": "code",
   "execution_count": 52,
   "metadata": {},
   "outputs": [
    {
     "data": {
      "text/html": [
       "<div>\n",
       "<style scoped>\n",
       "    .dataframe tbody tr th:only-of-type {\n",
       "        vertical-align: middle;\n",
       "    }\n",
       "\n",
       "    .dataframe tbody tr th {\n",
       "        vertical-align: top;\n",
       "    }\n",
       "\n",
       "    .dataframe thead th {\n",
       "        text-align: right;\n",
       "    }\n",
       "</style>\n",
       "<table border=\"1\" class=\"dataframe\">\n",
       "  <thead>\n",
       "    <tr style=\"text-align: right;\">\n",
       "      <th></th>\n",
       "      <th>Acordar con el comprador</th>\n",
       "      <th>Contra reembolso</th>\n",
       "      <th>Transferencia bancaria</th>\n",
       "      <th>Mastercard Maestro</th>\n",
       "      <th>Diners</th>\n",
       "      <th>American Express</th>\n",
       "      <th>Tarjeta de crédito</th>\n",
       "      <th>Giro postal</th>\n",
       "      <th>Cheque certificado</th>\n",
       "      <th>MercadoPago</th>\n",
       "      <th>MasterCard</th>\n",
       "      <th>Efectivo</th>\n",
       "      <th>Visa</th>\n",
       "      <th>Visa Electron</th>\n",
       "    </tr>\n",
       "  </thead>\n",
       "  <tbody>\n",
       "    <tr>\n",
       "      <th>0</th>\n",
       "      <td>1</td>\n",
       "      <td>0</td>\n",
       "      <td>1</td>\n",
       "      <td>0</td>\n",
       "      <td>0</td>\n",
       "      <td>0</td>\n",
       "      <td>0</td>\n",
       "      <td>0</td>\n",
       "      <td>0</td>\n",
       "      <td>0</td>\n",
       "      <td>0</td>\n",
       "      <td>1</td>\n",
       "      <td>0</td>\n",
       "      <td>0</td>\n",
       "    </tr>\n",
       "    <tr>\n",
       "      <th>1</th>\n",
       "      <td>0</td>\n",
       "      <td>0</td>\n",
       "      <td>1</td>\n",
       "      <td>0</td>\n",
       "      <td>0</td>\n",
       "      <td>0</td>\n",
       "      <td>0</td>\n",
       "      <td>0</td>\n",
       "      <td>0</td>\n",
       "      <td>0</td>\n",
       "      <td>0</td>\n",
       "      <td>1</td>\n",
       "      <td>0</td>\n",
       "      <td>0</td>\n",
       "    </tr>\n",
       "    <tr>\n",
       "      <th>2</th>\n",
       "      <td>0</td>\n",
       "      <td>0</td>\n",
       "      <td>1</td>\n",
       "      <td>0</td>\n",
       "      <td>0</td>\n",
       "      <td>0</td>\n",
       "      <td>1</td>\n",
       "      <td>0</td>\n",
       "      <td>0</td>\n",
       "      <td>0</td>\n",
       "      <td>0</td>\n",
       "      <td>1</td>\n",
       "      <td>0</td>\n",
       "      <td>0</td>\n",
       "    </tr>\n",
       "    <tr>\n",
       "      <th>3</th>\n",
       "      <td>0</td>\n",
       "      <td>0</td>\n",
       "      <td>1</td>\n",
       "      <td>0</td>\n",
       "      <td>0</td>\n",
       "      <td>0</td>\n",
       "      <td>1</td>\n",
       "      <td>0</td>\n",
       "      <td>0</td>\n",
       "      <td>0</td>\n",
       "      <td>0</td>\n",
       "      <td>1</td>\n",
       "      <td>0</td>\n",
       "      <td>0</td>\n",
       "    </tr>\n",
       "    <tr>\n",
       "      <th>4</th>\n",
       "      <td>1</td>\n",
       "      <td>0</td>\n",
       "      <td>1</td>\n",
       "      <td>0</td>\n",
       "      <td>0</td>\n",
       "      <td>0</td>\n",
       "      <td>0</td>\n",
       "      <td>0</td>\n",
       "      <td>0</td>\n",
       "      <td>0</td>\n",
       "      <td>0</td>\n",
       "      <td>1</td>\n",
       "      <td>0</td>\n",
       "      <td>0</td>\n",
       "    </tr>\n",
       "  </tbody>\n",
       "</table>\n",
       "</div>"
      ],
      "text/plain": [
       "   Acordar con el comprador  Contra reembolso  Transferencia bancaria  \\\n",
       "0                         1                 0                       1   \n",
       "1                         0                 0                       1   \n",
       "2                         0                 0                       1   \n",
       "3                         0                 0                       1   \n",
       "4                         1                 0                       1   \n",
       "\n",
       "   Mastercard Maestro  Diners  American Express  Tarjeta de crédito  \\\n",
       "0                   0       0                 0                   0   \n",
       "1                   0       0                 0                   0   \n",
       "2                   0       0                 0                   1   \n",
       "3                   0       0                 0                   1   \n",
       "4                   0       0                 0                   0   \n",
       "\n",
       "   Giro postal  Cheque certificado  MercadoPago  MasterCard  Efectivo  Visa  \\\n",
       "0            0                   0            0           0         1     0   \n",
       "1            0                   0            0           0         1     0   \n",
       "2            0                   0            0           0         1     0   \n",
       "3            0                   0            0           0         1     0   \n",
       "4            0                   0            0           0         1     0   \n",
       "\n",
       "   Visa Electron  \n",
       "0              0  \n",
       "1              0  \n",
       "2              0  \n",
       "3              0  \n",
       "4              0  "
      ]
     },
     "execution_count": 52,
     "metadata": {},
     "output_type": "execute_result"
    }
   ],
   "source": [
    "payments.head()"
   ]
  },
  {
   "cell_type": "code",
   "execution_count": 53,
   "metadata": {},
   "outputs": [],
   "source": [
    "credit_cards = ['American Express', 'MasterCard', 'Diners', 'Visa']\n",
    "\n",
    "debit_cards = ['Mastercard Maestro', 'Visa Electron']\n",
    "\n",
    "payments['credit_cards'] = payments[credit_cards].sum(axis=1)\n",
    "\n",
    "payments['debit_cards'] = payments[debit_cards].sum(axis=1)"
   ]
  },
  {
   "cell_type": "code",
   "execution_count": 54,
   "metadata": {},
   "outputs": [],
   "source": [
    "payments.loc[(payments['Tarjeta de crédito']==0) \\\n",
    "             & (payments['credit_cards']==1),\n",
    "            'Tarjeta de crédito'] = 1"
   ]
  },
  {
   "cell_type": "code",
   "execution_count": 55,
   "metadata": {},
   "outputs": [],
   "source": [
    "payments = payments.drop(columns= debit_cards + credit_cards + ['credit_cards'])"
   ]
  },
  {
   "cell_type": "code",
   "execution_count": 56,
   "metadata": {},
   "outputs": [],
   "source": [
    "df = df.join(payments)"
   ]
  },
  {
   "cell_type": "code",
   "execution_count": 57,
   "metadata": {},
   "outputs": [
    {
     "data": {
      "text/plain": [
       "['Acordar con el comprador',\n",
       " 'Contra reembolso',\n",
       " 'Transferencia bancaria',\n",
       " 'Tarjeta de crédito',\n",
       " 'Giro postal',\n",
       " 'Cheque certificado',\n",
       " 'MercadoPago',\n",
       " 'Efectivo',\n",
       " 'debit_cards',\n",
       " 'condition']"
      ]
     },
     "execution_count": 57,
     "metadata": {},
     "output_type": "execute_result"
    }
   ],
   "source": [
    "payments.columns.to_list() + ['condition']"
   ]
  },
  {
   "cell_type": "code",
   "execution_count": 58,
   "metadata": {},
   "outputs": [
    {
     "data": {
      "image/png": "[encoded data removed]",
      "text/plain": [
       "<Figure size 864x144 with 2 Axes>"
      ]
     },
     "metadata": {
      "needs_background": "light"
     },
     "output_type": "display_data"
    }
   ],
   "source": [
    "plt.figure(figsize=(12,2))\n",
    "sns.heatmap(\n",
    "    df[payments.columns.to_list() + ['condition']]\\\n",
    "    .corr()[['condition']].T,\n",
    "    vmin=-1,\n",
    "    vmax=1,\n",
    "    annot=True,\n",
    "    fmt='.2f',\n",
    "    cmap='icefire'\n",
    ");"
   ]
  },
  {
   "cell_type": "markdown",
   "metadata": {},
   "source": [
    "#### Result\n",
    "Paying methods appear to add information."
   ]
  },
  {
   "cell_type": "markdown",
   "metadata": {},
   "source": [
    "### J. Buying Mode"
   ]
  },
  {
   "cell_type": "code",
   "execution_count": 59,
   "metadata": {},
   "outputs": [
    {
     "data": {
      "image/png": "[encoded data removed]",
      "text/plain": [
       "<Figure size 864x144 with 2 Axes>"
      ]
     },
     "metadata": {
      "needs_background": "light"
     },
     "output_type": "display_data"
    }
   ],
   "source": [
    "plt.figure(figsize=(12,2))\n",
    "sns.heatmap(\n",
    "    pd.get_dummies(df['buying_mode'])\\\n",
    "    .join(df['condition'])\\\n",
    "    .corr()[['condition']].T,\n",
    "    vmin=-1,\n",
    "    vmax=1,\n",
    "    annot=True,\n",
    "    fmt='.2f',\n",
    "    cmap='icefire'\n",
    ");"
   ]
  },
  {
   "cell_type": "markdown",
   "metadata": {},
   "source": [
    "#### Result\n",
    "Butying mode appears to add information."
   ]
  },
  {
   "cell_type": "markdown",
   "metadata": {},
   "source": [
    "### K. International Delivery"
   ]
  },
  {
   "cell_type": "code",
   "execution_count": 1,
   "metadata": {},
   "outputs": [
    {
     "ename": "NameError",
     "evalue": "name 'df' is not defined",
     "output_type": "error",
     "traceback": [
      "\u001b[1;31m---------------------------------------------------------------------------\u001b[0m",
      "\u001b[1;31mNameError\u001b[0m                                 Traceback (most recent call last)",
      "\u001b[1;32m<ipython-input-1-f260ec203833>\u001b[0m in \u001b[0;36m<module>\u001b[1;34m\u001b[0m\n\u001b[1;32m----> 1\u001b[1;33m \u001b[0mdf\u001b[0m\u001b[1;33m[\u001b[0m\u001b[1;34m'international_delivery_mode'\u001b[0m\u001b[1;33m]\u001b[0m\u001b[1;33m.\u001b[0m\u001b[0mvalue_counts\u001b[0m\u001b[1;33m(\u001b[0m\u001b[1;33m)\u001b[0m\u001b[1;33m\u001b[0m\u001b[1;33m\u001b[0m\u001b[0m\n\u001b[0m",
      "\u001b[1;31mNameError\u001b[0m: name 'df' is not defined"
     ]
    }
   ],
   "source": [
    "df['international_delivery_mode'].value_counts()"
   ]
  },
  {
   "cell_type": "markdown",
   "metadata": {},
   "source": [
    "#### Result\n",
    "International Delivery does not have relevant information."
   ]
  },
  {
   "cell_type": "markdown",
   "metadata": {},
   "source": [
    "### L. Accepts Mercadopago"
   ]
  },
  {
   "cell_type": "code",
   "execution_count": 61,
   "metadata": {},
   "outputs": [
    {
     "data": {
      "image/png": "[encoded data removed]",
      "text/plain": [
       "<Figure size 864x144 with 2 Axes>"
      ]
     },
     "metadata": {
      "needs_background": "light"
     },
     "output_type": "display_data"
    }
   ],
   "source": [
    "plt.figure(figsize=(12,2))\n",
    "sns.heatmap(\n",
    "    df[['accepts_mercadopago', 'condition']].astype(int)\\\n",
    "    .corr()[['condition']].T,\n",
    "    vmin=-1,\n",
    "    vmax=1,\n",
    "    annot=True,\n",
    "    fmt='.2f',\n",
    "    cmap='icefire'\n",
    ");"
   ]
  },
  {
   "cell_type": "markdown",
   "metadata": {},
   "source": [
    "----------------\n",
    "## Title\n",
    "\n",
    "In order to check for information in the Title, we are going to create a vector representation of the text and then reduce the dimensionallity with a Singular Value Decomposition."
   ]
  },
  {
   "cell_type": "code",
   "execution_count": 217,
   "metadata": {},
   "outputs": [
    {
     "data": {
      "text/plain": [
       "0        Auriculares Samsung Originales Manos Libres Ca...\n",
       "1        Cuchillo Daga Acero Carbón Casco Yelmo Solinge...\n",
       "2              Antigua Revista Billiken, N° 1826, Año 1954\n",
       "3        Alarma Guardtex Gx412 Seguridad Para El Automo...\n",
       "4                                Serenata - Jennifer Blake\n",
       "                               ...                        \n",
       "89995    El Fin De Las Libertades - Benegas Lynch (h) -...\n",
       "89996              Honda Wave Guardabarro Interior Trasero\n",
       "89997          My Little Pony Completa Latino 4 Temporadas\n",
       "89998    Accidente Cerebrovascular En La Infancia Y Ado...\n",
       "89999                    Campera De Mujer Tucci Reversible\n",
       "Name: title, Length: 90000, dtype: object"
      ]
     },
     "execution_count": 217,
     "metadata": {},
     "output_type": "execute_result"
    }
   ],
   "source": [
    "df['title']"
   ]
  },
  {
   "cell_type": "code",
   "execution_count": 63,
   "metadata": {},
   "outputs": [],
   "source": [
    "from sklearn.feature_extraction.text import CountVectorizer, TfidfVectorizer\n",
    "from sklearn.decomposition import TruncatedSVD, PCA\n",
    "from sklearn.pipeline import Pipeline, make_pipeline\n",
    "from sklearn.ensemble import (\n",
    "    GradientBoostingClassifier,\n",
    "    RandomForestClassifier,\n",
    "    ExtraTreesClassifier\n",
    ")\n",
    "from sklearn.naive_bayes import MultinomialNB, BernoulliNB, GaussianNB\n",
    "from sklearn.linear_model import LogisticRegression\n",
    "from sklearn.model_selection import train_test_split, KFold, GridSearchCV"
   ]
  },
  {
   "cell_type": "code",
   "execution_count": 64,
   "metadata": {},
   "outputs": [],
   "source": [
    "pipe = Pipeline(\n",
    "    [\n",
    "        ('vect', CountVectorizer()),\n",
    "        ('dim', None),\n",
    "        ('model', BernoulliNB())\n",
    "    ]\n",
    ")"
   ]
  },
  {
   "cell_type": "code",
   "execution_count": 92,
   "metadata": {},
   "outputs": [],
   "source": [
    "params = [\n",
    "    {\n",
    "        'vect': [CountVectorizer(), TfidfVectorizer()],\n",
    "        'vect__ngram_range': [(1,1), (1,3)],\n",
    "        'dim': [TruncatedSVD()],\n",
    "        'dim__n_components': [10, 100],\n",
    "        'model': [BernoulliNB()],\n",
    "        'model__alpha': [0.01, 0.1, 1]\n",
    "    }\n",
    "]"
   ]
  },
  {
   "cell_type": "code",
   "execution_count": 93,
   "metadata": {},
   "outputs": [],
   "source": [
    "kf = KFold(3, shuffle=True)\n",
    "\n",
    "grid = GridSearchCV(pipe, params, 'accuracy', n_jobs=-1, cv=kf, verbose=10)"
   ]
  },
  {
   "cell_type": "code",
   "execution_count": 76,
   "metadata": {},
   "outputs": [],
   "source": [
    "X1, X2, y1, y2 = train_test_split(X_train, y_train, shuffle=True, stratify=y_train, test_size=.35)"
   ]
  },
  {
   "cell_type": "code",
   "execution_count": 78,
   "metadata": {},
   "outputs": [
    {
     "data": {
      "text/plain": [
       "((58500, 47), (31500, 47))"
      ]
     },
     "execution_count": 78,
     "metadata": {},
     "output_type": "execute_result"
    }
   ],
   "source": [
    "X1.shape, X2.shape"
   ]
  },
  {
   "cell_type": "code",
   "execution_count": 94,
   "metadata": {},
   "outputs": [
    {
     "name": "stdout",
     "output_type": "stream",
     "text": [
      "Fitting 3 folds for each of 24 candidates, totalling 72 fits\n"
     ]
    },
    {
     "name": "stderr",
     "output_type": "stream",
     "text": [
      "[Parallel(n_jobs=-1)]: Using backend LokyBackend with 4 concurrent workers.\n",
      "[Parallel(n_jobs=-1)]: Done   5 tasks      | elapsed:    6.5s\n",
      "[Parallel(n_jobs=-1)]: Done  10 tasks      | elapsed:    9.6s\n",
      "[Parallel(n_jobs=-1)]: Done  17 tasks      | elapsed:   15.8s\n",
      "[Parallel(n_jobs=-1)]: Done  24 tasks      | elapsed:   21.0s\n",
      "[Parallel(n_jobs=-1)]: Done  33 tasks      | elapsed:   27.4s\n",
      "[Parallel(n_jobs=-1)]: Done  42 tasks      | elapsed:  1.1min\n",
      "[Parallel(n_jobs=-1)]: Done  53 tasks      | elapsed:  1.9min\n",
      "[Parallel(n_jobs=-1)]: Done  64 tasks      | elapsed:  2.8min\n",
      "[Parallel(n_jobs=-1)]: Done  72 out of  72 | elapsed:  3.6min finished\n"
     ]
    },
    {
     "data": {
      "text/plain": [
       "GridSearchCV(cv=KFold(n_splits=3, random_state=None, shuffle=True),\n",
       "             error_score='raise-deprecating',\n",
       "             estimator=Pipeline(memory=None,\n",
       "                                steps=[('vect',\n",
       "                                        CountVectorizer(analyzer='word',\n",
       "                                                        binary=False,\n",
       "                                                        decode_error='strict',\n",
       "                                                        dtype=<class 'numpy.int64'>,\n",
       "                                                        encoding='utf-8',\n",
       "                                                        input='content',\n",
       "                                                        lowercase=True,\n",
       "                                                        max_df=1.0,\n",
       "                                                        max_features=None,\n",
       "                                                        min_df=1,\n",
       "                                                        ngram_range=(1, 1),\n",
       "                                                        preproces...\n",
       "                                                   lowercase=True, max_df=1.0,\n",
       "                                                   max_features=None, min_df=1,\n",
       "                                                   ngram_range=(1, 1),\n",
       "                                                   norm='l2', preprocessor=None,\n",
       "                                                   smooth_idf=True,\n",
       "                                                   stop_words=None,\n",
       "                                                   strip_accents=None,\n",
       "                                                   sublinear_tf=False,\n",
       "                                                   token_pattern='(?u)\\\\b\\\\w\\\\w+\\\\b',\n",
       "                                                   tokenizer=None, use_idf=True,\n",
       "                                                   vocabulary=None)],\n",
       "                          'vect__ngram_range': [(1, 1), (1, 3)]}],\n",
       "             pre_dispatch='2*n_jobs', refit=True, return_train_score=False,\n",
       "             scoring='accuracy', verbose=10)"
      ]
     },
     "execution_count": 94,
     "metadata": {},
     "output_type": "execute_result"
    }
   ],
   "source": [
    "grid.fit(X2['title'], y2)"
   ]
  },
  {
   "cell_type": "code",
   "execution_count": 95,
   "metadata": {},
   "outputs": [
    {
     "data": {
      "text/plain": [
       "<matplotlib.axes._subplots.AxesSubplot at 0x2d1f1055a48>"
      ]
     },
     "execution_count": 95,
     "metadata": {},
     "output_type": "execute_result"
    },
    {
     "data": {
      "image/png": "[encoded data removed]",
      "text/plain": [
       "<Figure size 432x288 with 2 Axes>"
      ]
     },
     "metadata": {
      "needs_background": "light"
     },
     "output_type": "display_data"
    }
   ],
   "source": [
    "from sklearn.metrics import classification_report, confusion_matrix\n",
    "y_hat_train = grid.predict(X2['title'])\n",
    "\n",
    "sns.heatmap(\n",
    "    confusion_matrix(y2, y_hat_train),\n",
    "    annot = True,\n",
    "    fmt='.2f'\n",
    ")"
   ]
  },
  {
   "cell_type": "code",
   "execution_count": 96,
   "metadata": {},
   "outputs": [
    {
     "name": "stdout",
     "output_type": "stream",
     "text": [
      "              precision    recall  f1-score   support\n",
      "\n",
      "         new       0.70      0.69      0.70     16923\n",
      "        used       0.65      0.66      0.66     14577\n",
      "\n",
      "    accuracy                           0.68     31500\n",
      "   macro avg       0.68      0.68      0.68     31500\n",
      "weighted avg       0.68      0.68      0.68     31500\n",
      "\n"
     ]
    }
   ],
   "source": [
    "print(classification_report(y2, y_hat_train))"
   ]
  },
  {
   "cell_type": "code",
   "execution_count": 97,
   "metadata": {},
   "outputs": [
    {
     "data": {
      "text/plain": [
       "{'dim': TruncatedSVD(algorithm='randomized', n_components=100, n_iter=5,\n",
       "              random_state=None, tol=0.0),\n",
       " 'dim__n_components': 100,\n",
       " 'model': BernoulliNB(alpha=1, binarize=0.0, class_prior=None, fit_prior=True),\n",
       " 'model__alpha': 1,\n",
       " 'vect': TfidfVectorizer(analyzer='word', binary=False, decode_error='strict',\n",
       "                 dtype=<class 'numpy.float64'>, encoding='utf-8',\n",
       "                 input='content', lowercase=True, max_df=1.0, max_features=None,\n",
       "                 min_df=1, ngram_range=(1, 1), norm='l2', preprocessor=None,\n",
       "                 smooth_idf=True, stop_words=None, strip_accents=None,\n",
       "                 sublinear_tf=False, token_pattern='(?u)\\\\b\\\\w\\\\w+\\\\b',\n",
       "                 tokenizer=None, use_idf=True, vocabulary=None),\n",
       " 'vect__ngram_range': (1, 1)}"
      ]
     },
     "execution_count": 97,
     "metadata": {},
     "output_type": "execute_result"
    }
   ],
   "source": [
    "grid.best_params_"
   ]
  },
  {
   "cell_type": "markdown",
   "metadata": {},
   "source": [
    "## Conclusion\n",
    "\n",
    "We have some features that appear to add information as well as the title. For this reson, we'll create a `sklearn.pipeline.Pipeline` with all the required transformations for each set of columns as well as all the features from the text in order to combine them."
   ]
  }
 ],
 "metadata": {
  "kernelspec": {
   "display_name": "Python 3",
   "language": "python",
   "name": "python3"
  },
  "language_info": {
   "codemirror_mode": {
    "name": "ipython",
    "version": 3
   },
   "file_extension": ".py",
   "mimetype": "text/x-python",
   "name": "python",
   "nbconvert_exporter": "python",
   "pygments_lexer": "ipython3",
   "version": "3.8.5"
  }
 },
 "nbformat": 4,
 "nbformat_minor": 4
}
